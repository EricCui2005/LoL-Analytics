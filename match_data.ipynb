{
 "cells": [
  {
   "cell_type": "code",
   "execution_count": 6,
   "metadata": {},
   "outputs": [],
   "source": [
    "# Imports\n",
    "import requests\n",
    "import pandas as pd"
   ]
  },
  {
   "cell_type": "code",
   "execution_count": 17,
   "metadata": {},
   "outputs": [],
   "source": [
    "# Global Variables\n",
    "api_key = \"RGAPI-29c88dfd-14f0-4192-b087-b6f8cb0a15fa\"\n",
    "base_url = \"https://americas.api.riotgames.com\"\n",
    "tag_line = \"NA1\""
   ]
  },
  {
   "cell_type": "code",
   "execution_count": 27,
   "metadata": {},
   "outputs": [],
   "source": [
    "# Function to get unique PUUID by summoner name\n",
    "def get_puuid_by_name(gameName, tag_line):\n",
    "    url = f\"https://americas.api.riotgames.com/riot/account/v1/accounts/by-riot-id/{gameName}/{tag_line}\"\n",
    "    response = requests.get(url, headers={\"X-Riot-Token\": api_key})\n",
    "    puuid = response.json()[\"puuid\"]\n",
    "    return puuid\n",
    "\n",
    "# Function to get match history by PUUID\n",
    "def get_matches_by_puuid(puuid):\n",
    "    url = f\"https://americas.api.riotgames.com/lol/match/v5/matches/by-puuid/{puuid}/ids\"\n",
    "    response = requests.get(url, headers={\"X-Riot-Token\": api_key})\n",
    "    matches = response.json()\n",
    "    return matches\n",
    "\n",
    "# Function to get match data by match ID\n",
    "def get_match_data_by_match_id(match_id):\n",
    "    url = f\"https://americas.api.riotgames.com/lol/match/v5/matches/{match_id}\"\n",
    "    response = requests.get(url, headers={\"X-Riot-Token\": api_key})\n",
    "    match_data = response.json()\n",
    "    return match_data\n"
   ]
  },
  {
   "cell_type": "code",
   "execution_count": 29,
   "metadata": {},
   "outputs": [
    {
     "name": "stdout",
     "output_type": "stream",
     "text": [
      "['NA1_5241920635', 'NA1_5241919970', 'NA1_5241913547', 'NA1_5241913794', 'NA1_5231385593', 'NA1_5231372186', 'NA1_5231322289', 'NA1_5231301748', 'NA1_5231275021', 'NA1_5200311953', 'NA1_5200278399', 'NA1_5200241164', 'NA1_5199932347', 'NA1_5199887190', 'NA1_5194599263', 'NA1_5194337284', 'NA1_5194311268', 'NA1_5193945478', 'NA1_5193937565', 'NA1_5193886687']\n"
     ]
    }
   ],
   "source": [
    "print(get_matches_by_puuid(get_puuid_by_name(\"TS Calamitas\", tag_line)))"
   ]
  }
 ],
 "metadata": {
  "kernelspec": {
   "display_name": ".venv",
   "language": "python",
   "name": "python3"
  },
  "language_info": {
   "codemirror_mode": {
    "name": "ipython",
    "version": 3
   },
   "file_extension": ".py",
   "mimetype": "text/x-python",
   "name": "python",
   "nbconvert_exporter": "python",
   "pygments_lexer": "ipython3",
   "version": "3.12.0"
  }
 },
 "nbformat": 4,
 "nbformat_minor": 2
}
