{
 "cells": [
  {
   "cell_type": "code",
   "execution_count": 218,
   "metadata": {},
   "outputs": [],
   "source": [
    "# Imports\n",
    "import requests\n",
    "import pandas as pd"
   ]
  },
  {
   "cell_type": "code",
   "execution_count": 219,
   "metadata": {},
   "outputs": [],
   "source": [
    "# Global Variables\n",
    "api_key = \"RGAPI-cb7dc070-2672-45bc-ad67-fdfeaa63a8d4\"\n",
    "base_url = \"https://americas.api.riotgames.com\"\n",
    "tag_line = \"NA1\""
   ]
  },
  {
   "cell_type": "markdown",
   "metadata": {},
   "source": [
    "### Summoner Functions"
   ]
  },
  {
   "cell_type": "code",
   "execution_count": 220,
   "metadata": {},
   "outputs": [],
   "source": [
    "# Function to get unique PUUID by summoner name\n",
    "def get_puuid_by_name(gameName, tag_line):\n",
    "    try:\n",
    "        url = f\"https://americas.api.riotgames.com/riot/account/v1/accounts/by-riot-id/{gameName}/{tag_line}\"\n",
    "        response = requests.get(url, headers={\"X-Riot-Token\": api_key})\n",
    "        response.raise_for_status()  # Raises an HTTPError for bad responses\n",
    "        data = response.json()\n",
    "        if \"puuid\" not in data:\n",
    "            raise KeyError(\"PUUID not found in response\")\n",
    "        return data[\"puuid\"]\n",
    "    except requests.exceptions.RequestException as e:\n",
    "        print(f\"Error making request for {gameName}#{tag_line}: {str(e)}\")\n",
    "        return None\n",
    "    except (KeyError, ValueError) as e:\n",
    "        print(f\"Error parsing response for {gameName}#{tag_line}: {str(e)}\")\n",
    "        return None\n",
    "\n",
    "# Function to get summoner data by PUUID\n",
    "def get_summoner_by_puuid(puuid):\n",
    "    try:\n",
    "        if not puuid:\n",
    "            raise ValueError(\"PUUID cannot be empty\")\n",
    "        url = f\"https://na1.api.riotgames.com/lol/summoner/v4/summoners/by-puuid/{puuid}\"\n",
    "        response = requests.get(url, headers={\"X-Riot-Token\": api_key})\n",
    "        response.raise_for_status()\n",
    "        data = response.json()\n",
    "        if not data:\n",
    "            raise ValueError(\"Empty response received\")\n",
    "        return data\n",
    "    except requests.exceptions.RequestException as e:\n",
    "        print(f\"Error making request for PUUID {puuid}: {str(e)}\")\n",
    "        return None\n",
    "    except ValueError as e:\n",
    "        print(f\"Error processing summoner data for PUUID {puuid}: {str(e)}\")\n",
    "        return None\n",
    "\n",
    "# Function to get rank data by PUUID\n",
    "def get_rank_by_summoner_id(puuid):\n",
    "    try:\n",
    "        if not puuid:\n",
    "            raise ValueError(\"PUUID cannot be empty\")\n",
    "        url = f\"https://na1.api.riotgames.com/lol/league/v4/entries/by-puuid/{puuid}\"\n",
    "        response = requests.get(url, headers={\"X-Riot-Token\": api_key})\n",
    "        response.raise_for_status()\n",
    "        data = response.json()\n",
    "        if not isinstance(data, list):\n",
    "            raise ValueError(\"Expected list response for rank data\")\n",
    "        return data\n",
    "    except requests.exceptions.RequestException as e:\n",
    "        print(f\"Error making request for PUUID {puuid}: {str(e)}\")\n",
    "        return None\n",
    "    except ValueError as e:\n",
    "        print(f\"Error processing rank data for PUUID {puuid}: {str(e)}\")\n",
    "        return None"
   ]
  },
  {
   "cell_type": "markdown",
   "metadata": {},
   "source": [
    "### Match Functions"
   ]
  },
  {
   "cell_type": "code",
   "execution_count": 223,
   "metadata": {},
   "outputs": [],
   "source": [
    "# Function to get match history by PUUID\n",
    "def get_matches_by_puuid(puuid):\n",
    "    url = f\"https://americas.api.riotgames.com/lol/match/v5/matches/by-puuid/{puuid}/ids?count=100\"\n",
    "    response = requests.get(url, headers={\"X-Riot-Token\": api_key})\n",
    "    matches = response.json()\n",
    "    return matches\n",
    "\n",
    "# Function to get match data by match ID\n",
    "def get_match_data_by_match_id(match_id):\n",
    "    url = f\"https://americas.api.riotgames.com/lol/match/v5/matches/{match_id}\"\n",
    "    response = requests.get(url, headers={\"X-Riot-Token\": api_key})\n",
    "    match_data = response.json()\n",
    "    return match_data\n",
    "\n",
    "# Function to get the PUUIDs of the participants in a match\n",
    "def get_match_puuids(match_id):\n",
    "    try:\n",
    "        match_data = get_match_data_by_match_id(match_id)\n",
    "        if \"metadata\" not in match_data:\n",
    "            raise KeyError(\"Match data does not contain metadata\")\n",
    "        if \"participants\" not in match_data[\"metadata\"]:\n",
    "            raise KeyError(\"Match metadata does not contain participants\")\n",
    "        return match_data[\"metadata\"][\"participants\"]\n",
    "    except Exception as e:\n",
    "        print(f\"Error getting match PUUIDs for match {match_id}: {str(e)}\")\n",
    "        return []\n",
    "\n",
    "# Function to check if a match is ranked\n",
    "def check_ranked(match_id):\n",
    "    try:\n",
    "        match_data = get_match_data_by_match_id(match_id)\n",
    "        if \"info\" not in match_data:\n",
    "            print(f\"Match {match_id} data does not contain info\")\n",
    "            return False\n",
    "        if \"queueId\" not in match_data[\"info\"]:\n",
    "            print(f\"Match {match_id} info does not contain queueId\")\n",
    "            return False\n",
    "        return match_data[\"info\"][\"queueId\"] == 420\n",
    "    except Exception as e:\n",
    "        print(f\"Error checking if match {match_id} is ranked: {str(e)}\")\n",
    "        return False"
   ]
  },
  {
   "cell_type": "code",
   "execution_count": 224,
   "metadata": {},
   "outputs": [
    {
     "name": "stdout",
     "output_type": "stream",
     "text": [
      "['kmsFAO_77jjUMeGKQ-ajFOx-EXjF7bYBXZ5MYktRPLy1DFqqq5Y7dO3SgHtNVXzQ4Wgc1J2NVgjLZA', '-7A55h5Ap4Bw8XZCFryUhBjT4q8wiIcxR4U_bnCcErLc1Ry0zwHnlnajqNBH3nR-Wwvz5mHJKv9FRQ', 'KZY9vPlc8JNM4HRcsYEpMfn-0RB48gg7sMP_o7ezc0vnIjLfPwrW3JuqB8eIOdxofJgzlgxLCcaJWw', 'sDeS5zC_lb_nIy9QbnpEihKAQZsdCaLQeZ_RP7vY-mBCOFlPZsV3BMSATDty6dZUrY1OmmFMPhLVIw', 'ntNWuQm-xSDMZqTZKKmciU6DAcGZD7_r1D6nhCTHpEiLyhqCssmO5gAvkHtgWuMK4pqt3Yx-E_F34w', 'XGObXx2C5ckGP_Avqvw29YmV_pyj8uR5VaGvDzRUec8Up0TAGrpGgsCwxEsoGC5kwAePOuDmgroZjw', '5qfT43Vod8IuFlD4X8KWZlANpo9IhVl00LOSxco_526ap3a9qqDN56ozIhWa4ZUGuAUWFUR9qlimWw', 'TawUDMlM0jPs111Y_mcZoB7y-5c0Xw-SdVc-xOgBPRD36Uqd7O0rz73OR4ke46Gh7vQPGz5zUPZXLA', 'NmnZXDZMkHV9vjy54eXr6dxIS12VAF8CTbSej4ZR2d0FGa-EApZTESKGAAEz2bjbooQfZnfmsxlO8g', 'KpB95ghFhG_p6IG2eP138IZC354vpvH-ys_giEnoMlTQn0SN5iWgMY9bqvwYDaIl0RTMrPN3za5ZtA']\n",
      "Checking match NA1_5244520364\n",
      "Checking match NA1_5244483429\n",
      "Checking match NA1_5244302021\n",
      "Checking match NA1_5244270627\n",
      "Checking match NA1_5244259397\n",
      "Checking match NA1_5244238459\n",
      "Checking match NA1_5244224650\n",
      "Checking match NA1_5244200452\n",
      "Checking match NA1_5244184464\n",
      "Checking match NA1_5244156644\n"
     ]
    }
   ],
   "source": [
    "test_puuid = get_puuid_by_name(\"ARMAO\", tag_line)\n",
    "matches = get_matches_by_puuid(test_puuid)\n",
    "match_data = get_match_data_by_match_id(matches[0])\n",
    "\n",
    "print(get_match_puuids(matches[0]))\n",
    "for match in matches:\n",
    "    print(f\"Checking match {match}\")\n",
    "    if check_ranked(match):\n",
    "        print(match)\n",
    "\n"
   ]
  },
  {
   "cell_type": "code",
   "execution_count": null,
   "metadata": {},
   "outputs": [],
   "source": []
  },
  {
   "cell_type": "code",
   "execution_count": null,
   "metadata": {},
   "outputs": [],
   "source": []
  }
 ],
 "metadata": {
  "kernelspec": {
   "display_name": ".venv",
   "language": "python",
   "name": "python3"
  },
  "language_info": {
   "codemirror_mode": {
    "name": "ipython",
    "version": 3
   },
   "file_extension": ".py",
   "mimetype": "text/x-python",
   "name": "python",
   "nbconvert_exporter": "python",
   "pygments_lexer": "ipython3",
   "version": "3.12.0"
  }
 },
 "nbformat": 4,
 "nbformat_minor": 2
}
