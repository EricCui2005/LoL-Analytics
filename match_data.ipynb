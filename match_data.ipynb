{
 "cells": [
  {
   "cell_type": "code",
   "execution_count": 95,
   "metadata": {},
   "outputs": [],
   "source": [
    "# Imports\n",
    "import requests\n",
    "import pandas as pd"
   ]
  },
  {
   "cell_type": "code",
   "execution_count": 96,
   "metadata": {},
   "outputs": [],
   "source": [
    "# Global Variables\n",
    "api_key = \"RGAPI-cf22cdfb-ba06-44f4-b568-96d5293fb308\"\n",
    "base_url = \"https://americas.api.riotgames.com\"\n",
    "tag_line = \"NA1\""
   ]
  },
  {
   "cell_type": "code",
   "execution_count": 133,
   "metadata": {},
   "outputs": [],
   "source": [
    "# Function to get unique PUUID by summoner name\n",
    "def get_puuid_by_name(gameName, tag_line):\n",
    "    url = f\"https://americas.api.riotgames.com/riot/account/v1/accounts/by-riot-id/{gameName}/{tag_line}\"\n",
    "    response = requests.get(url, headers={\"X-Riot-Token\": api_key})\n",
    "    puuid = response.json()[\"puuid\"]\n",
    "    return puuid\n",
    "\n",
    "\n",
    "# Function to get summoner data by PUUID\n",
    "def get_summoner_by_puuid(puuid):\n",
    "    url = f\"https://na1.api.riotgames.com/lol/summoner/v4/summoners/by-puuid/{puuid}\"\n",
    "    response = requests.get(url, headers={\"X-Riot-Token\": api_key})\n",
    "    return response.json()\n",
    "\n",
    "\n",
    "# Function to get rank data by summoner ID\n",
    "def get_rank_by_summoner_id(puuid):\n",
    "    url = f\"https://na1.api.riotgames.com/lol/league/v4/entries/by-puuid/{puuid}\"\n",
    "    response = requests.get(url, headers={\"X-Riot-Token\": api_key})\n",
    "    return response.json()\n",
    "\n",
    "\n",
    "# Function to get match history by PUUID\n",
    "def get_matches_by_puuid(puuid):\n",
    "    url = f\"https://americas.api.riotgames.com/lol/match/v5/matches/by-puuid/{puuid}/ids\"\n",
    "    response = requests.get(url, headers={\"X-Riot-Token\": api_key})\n",
    "    matches = response.json()\n",
    "    return matches\n",
    "\n",
    "\n",
    "# Function to get match data by match ID\n",
    "def get_match_data_by_match_id(match_id):\n",
    "    url = f\"https://americas.api.riotgames.com/lol/match/v5/matches/{match_id}\"\n",
    "    response = requests.get(url, headers={\"X-Riot-Token\": api_key})\n",
    "    match_data = response.json()\n",
    "    return match_data"
   ]
  },
  {
   "cell_type": "code",
   "execution_count": 146,
   "metadata": {},
   "outputs": [],
   "source": [
    "# Function to get the PUUIDs of the participants in a match\n",
    "def get_match_puuids(match_id):\n",
    "    match_data = get_match_data_by_match_id(match_id)\n",
    "    return match_data[\"metadata\"][\"participants\"]"
   ]
  },
  {
   "cell_type": "code",
   "execution_count": 147,
   "metadata": {},
   "outputs": [
    {
     "name": "stdout",
     "output_type": "stream",
     "text": [
      "['kmsFAO_77jjUMeGKQ-ajFOx-EXjF7bYBXZ5MYktRPLy1DFqqq5Y7dO3SgHtNVXzQ4Wgc1J2NVgjLZA', '-7A55h5Ap4Bw8XZCFryUhBjT4q8wiIcxR4U_bnCcErLc1Ry0zwHnlnajqNBH3nR-Wwvz5mHJKv9FRQ', 'KZY9vPlc8JNM4HRcsYEpMfn-0RB48gg7sMP_o7ezc0vnIjLfPwrW3JuqB8eIOdxofJgzlgxLCcaJWw', 'sDeS5zC_lb_nIy9QbnpEihKAQZsdCaLQeZ_RP7vY-mBCOFlPZsV3BMSATDty6dZUrY1OmmFMPhLVIw', 'ntNWuQm-xSDMZqTZKKmciU6DAcGZD7_r1D6nhCTHpEiLyhqCssmO5gAvkHtgWuMK4pqt3Yx-E_F34w', 'XGObXx2C5ckGP_Avqvw29YmV_pyj8uR5VaGvDzRUec8Up0TAGrpGgsCwxEsoGC5kwAePOuDmgroZjw', '5qfT43Vod8IuFlD4X8KWZlANpo9IhVl00LOSxco_526ap3a9qqDN56ozIhWa4ZUGuAUWFUR9qlimWw', 'TawUDMlM0jPs111Y_mcZoB7y-5c0Xw-SdVc-xOgBPRD36Uqd7O0rz73OR4ke46Gh7vQPGz5zUPZXLA', 'NmnZXDZMkHV9vjy54eXr6dxIS12VAF8CTbSej4ZR2d0FGa-EApZTESKGAAEz2bjbooQfZnfmsxlO8g', 'KpB95ghFhG_p6IG2eP138IZC354vpvH-ys_giEnoMlTQn0SN5iWgMY9bqvwYDaIl0RTMrPN3za5ZtA']\n"
     ]
    }
   ],
   "source": [
    "test_puuid = get_puuid_by_name(\"ARMAO\", tag_line)\n",
    "matches = get_matches_by_puuid(test_puuid)\n",
    "match_data = get_match_data_by_match_id(matches[0])\n",
    "\n",
    "print(get_match_puuids(matches[0]))\n",
    "\n"
   ]
  },
  {
   "cell_type": "code",
   "execution_count": null,
   "metadata": {},
   "outputs": [],
   "source": []
  },
  {
   "cell_type": "code",
   "execution_count": null,
   "metadata": {},
   "outputs": [],
   "source": []
  }
 ],
 "metadata": {
  "kernelspec": {
   "display_name": ".venv",
   "language": "python",
   "name": "python3"
  },
  "language_info": {
   "codemirror_mode": {
    "name": "ipython",
    "version": 3
   },
   "file_extension": ".py",
   "mimetype": "text/x-python",
   "name": "python",
   "nbconvert_exporter": "python",
   "pygments_lexer": "ipython3",
   "version": "3.12.0"
  }
 },
 "nbformat": 4,
 "nbformat_minor": 2
}
