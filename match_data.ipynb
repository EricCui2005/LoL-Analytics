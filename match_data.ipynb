{
 "cells": [
  {
   "cell_type": "markdown",
   "metadata": {},
   "source": [
    "### Global Configurations"
   ]
  },
  {
   "cell_type": "code",
   "execution_count": 232,
   "metadata": {},
   "outputs": [],
   "source": [
    "# Imports\n",
    "import requests\n",
    "import pandas as pd\n",
    "\n",
    "# API variables\n",
    "api_key = \"RGAPI-cb7dc070-2672-45bc-ad67-fdfeaa63a8d4\"\n",
    "base_url = \"https://americas.api.riotgames.com\"\n",
    "\n",
    "# Search parameters\n",
    "gameName = \"ARMAO\"\n",
    "tag_line = \"NA1\""
   ]
  },
  {
   "cell_type": "markdown",
   "metadata": {},
   "source": [
    "### Summoner Functions"
   ]
  },
  {
   "cell_type": "code",
   "execution_count": 257,
   "metadata": {},
   "outputs": [],
   "source": [
    "# Function to get unique PUUID by summoner name\n",
    "def get_puuid_by_name(gameName, tag_line):\n",
    "    try:\n",
    "        url = f\"https://americas.api.riotgames.com/riot/account/v1/accounts/by-riot-id/{gameName}/{tag_line}\"\n",
    "        response = requests.get(url, headers={\"X-Riot-Token\": api_key})\n",
    "        response.raise_for_status()  # Raises an HTTPError for bad responses\n",
    "        data = response.json()\n",
    "        if \"puuid\" not in data:\n",
    "            raise KeyError(\"PUUID not found in response\")\n",
    "        return data[\"puuid\"]\n",
    "    except requests.exceptions.RequestException as e:\n",
    "        print(f\"Error making request for {gameName}#{tag_line}: {str(e)}\")\n",
    "        return None\n",
    "    except (KeyError, ValueError) as e:\n",
    "        print(f\"Error parsing response for {gameName}#{tag_line}: {str(e)}\")\n",
    "        return None\n",
    "\n",
    "def get_summoner_name_by_puuid(puuid):\n",
    "    try:\n",
    "        url = f\"https://americas.api.riotgames.com/riot/account/v1/accounts/by-puuid/{puuid}\"\n",
    "        response = requests.get(url, headers={\"X-Riot-Token\": api_key})\n",
    "        response.raise_for_status()\n",
    "        data = response.json()\n",
    "        return data[\"gameName\"]\n",
    "    except requests.exceptions.RequestException as e:\n",
    "        print(f\"Error making request for PUUID {puuid}: {str(e)}\")\n",
    "        return None\n",
    "    except ValueError as e:\n",
    "        print(f\"Error processing summoner data for PUUID {puuid}: {str(e)}\")\n",
    "        return None\n",
    "        \n",
    "\n",
    "# Function to get summoner data by PUUID\n",
    "def get_summoner_by_puuid(puuid):\n",
    "    try:\n",
    "        if not puuid:\n",
    "            raise ValueError(\"PUUID cannot be empty\")\n",
    "        url = f\"https://na1.api.riotgames.com/lol/summoner/v4/summoners/by-puuid/{puuid}\"\n",
    "        response = requests.get(url, headers={\"X-Riot-Token\": api_key})\n",
    "        response.raise_for_status()\n",
    "        data = response.json()\n",
    "        if not data:\n",
    "            raise ValueError(\"Empty response received\")\n",
    "        return data\n",
    "    except requests.exceptions.RequestException as e:\n",
    "        print(f\"Error making request for PUUID {puuid}: {str(e)}\")\n",
    "        return None\n",
    "    except ValueError as e:\n",
    "        print(f\"Error processing summoner data for PUUID {puuid}: {str(e)}\")\n",
    "        return None\n",
    "\n",
    "# Function to get rank data by PUUID\n",
    "def get_rank_by_summoner_id(puuid):\n",
    "    try:\n",
    "        if not puuid:\n",
    "            raise ValueError(\"PUUID cannot be empty\")\n",
    "        url = f\"https://na1.api.riotgames.com/lol/league/v4/entries/by-puuid/{puuid}\"\n",
    "        response = requests.get(url, headers={\"X-Riot-Token\": api_key})\n",
    "        response.raise_for_status()\n",
    "        data = response.json()\n",
    "        if not isinstance(data, list):\n",
    "            raise ValueError(\"Expected list response for rank data\")\n",
    "        return data\n",
    "    except requests.exceptions.RequestException as e:\n",
    "        print(f\"Error making request for PUUID {puuid}: {str(e)}\")\n",
    "        return None\n",
    "    except ValueError as e:\n",
    "        print(f\"Error processing rank data for PUUID {puuid}: {str(e)}\")\n",
    "        return None"
   ]
  },
  {
   "cell_type": "markdown",
   "metadata": {},
   "source": [
    "#### Summoner Functions Tests"
   ]
  },
  {
   "cell_type": "code",
   "execution_count": 258,
   "metadata": {},
   "outputs": [
    {
     "name": "stdout",
     "output_type": "stream",
     "text": [
      "Running get_puuid_by_name tests...\n",
      "✅ Successfully retrieved PUUID for ARMAO#NA1\n",
      "PUUID: -7A55h5Ap4Bw8XZCFryUhBjT4q8wiIcxR4U_bnCcErLc1Ry0zwHnlnajqNBH3nR-Wwvz5mHJKv9FRQ\n",
      "Running get_summoner_name_by_puuid tests...\n",
      "✅ Successfully retrieved summoner name for PUUID: -7A55h5Ap4Bw8XZCFryUhBjT4q8wiIcxR4U_bnCcErLc1Ry0zwHnlnajqNBH3nR-Wwvz5mHJKv9FRQ\n",
      "Summoner name: ARMAO\n",
      "\n",
      "Running get_summoner_by_puuid tests...\n",
      "✅ Successfully retrieved summoner data for PUUID: -7A55h5Ap4Bw8XZCFryUhBjT4q8wiIcxR4U_bnCcErLc1Ry0zwHnlnajqNBH3nR-Wwvz5mHJKv9FRQ\n",
      "Summoner data: {'id': 'SnTLNiQ-Kl1hkAZgS6Fn3ej6dRurY4JZKdHrHLaMJP6TBfM', 'accountId': 'ndxwVpNfC3DizeTq01amiKZ7bf1BKOR79GYVyTa2u1hAeSQ', 'puuid': '-7A55h5Ap4Bw8XZCFryUhBjT4q8wiIcxR4U_bnCcErLc1Ry0zwHnlnajqNBH3nR-Wwvz5mHJKv9FRQ', 'profileIconId': 6296, 'revisionDate': 1741556977617, 'summonerLevel': 433}\n",
      "\n",
      "Running get_rank_by_summoner_id tests...\n",
      "✅ Successfully retrieved rank data for PUUID: -7A55h5Ap4Bw8XZCFryUhBjT4q8wiIcxR4U_bnCcErLc1Ry0zwHnlnajqNBH3nR-Wwvz5mHJKv9FRQ\n",
      "Rank data: [{'leagueId': '7941a1fa-7574-30d5-af8e-7d8990a94a20', 'queueType': 'RANKED_SOLO_5x5', 'tier': 'CHALLENGER', 'rank': 'I', 'summonerId': 'SnTLNiQ-Kl1hkAZgS6Fn3ej6dRurY4JZKdHrHLaMJP6TBfM', 'puuid': '-7A55h5Ap4Bw8XZCFryUhBjT4q8wiIcxR4U_bnCcErLc1Ry0zwHnlnajqNBH3nR-Wwvz5mHJKv9FRQ', 'leaguePoints': 1851, 'wins': 273, 'losses': 226, 'veteran': True, 'inactive': False, 'freshBlood': False, 'hotStreak': False}]\n"
     ]
    },
    {
     "data": {
      "text/plain": [
       "True"
      ]
     },
     "execution_count": 258,
     "metadata": {},
     "output_type": "execute_result"
    }
   ],
   "source": [
    "# Test get_puuid_by_name function\n",
    "def test_get_puuid_by_name():\n",
    "    puuid = get_puuid_by_name(gameName, tag_line)\n",
    "    \n",
    "    # Check if we got a valid PUUID back\n",
    "    if puuid and isinstance(puuid, str) and len(puuid) > 0:\n",
    "        print(f\"✅ Successfully retrieved PUUID for {gameName}#{tag_line}\")\n",
    "        print(f\"PUUID: {puuid}\")\n",
    "        return True\n",
    "    else:\n",
    "        print(f\"❌ Failed to retrieve valid PUUID for {gameName}#{tag_line}\")\n",
    "        return False\n",
    "    \n",
    "    \n",
    "# Test get_summoner_name_by_puuid function\n",
    "def test_get_summoner_name_by_puuid():\n",
    "    puuid = get_puuid_by_name(gameName, tag_line)\n",
    "    summoner_name = get_summoner_name_by_puuid(puuid)\n",
    "    \n",
    "    # Check if we got a valid summoner name back\n",
    "    if summoner_name and isinstance(summoner_name, str) and len(summoner_name) > 0:\n",
    "        print(f\"✅ Successfully retrieved summoner name for PUUID: {puuid}\")\n",
    "        print(f\"Summoner name: {summoner_name}\")\n",
    "        return True\n",
    "    else:\n",
    "        print(f\"❌ Failed to retrieve valid summoner name for PUUID: {puuid}\")\n",
    "        return False\n",
    "\n",
    "\n",
    "\n",
    "# Test get_summoner_by_puuid function\n",
    "def test_get_summoner_by_puuid():\n",
    "    puuid = get_puuid_by_name(gameName, tag_line)\n",
    "    summoner_data = get_summoner_by_puuid(puuid)\n",
    "    \n",
    "    # Check if we got valid summoner data back\n",
    "    if summoner_data and isinstance(summoner_data, dict) and 'id' in summoner_data:\n",
    "        print(f\"✅ Successfully retrieved summoner data for PUUID: {puuid}\")\n",
    "        print(f\"Summoner data: {summoner_data}\")\n",
    "        return True\n",
    "    else:\n",
    "        print(f\"❌ Failed to retrieve valid summoner data for PUUID: {puuid}\")\n",
    "        return False\n",
    "\n",
    "\n",
    "# Test get_rank_by_summoner_id function\n",
    "def test_get_rank_by_summoner_id():\n",
    "    puuid = get_puuid_by_name(gameName, tag_line)\n",
    "    rank_data = get_rank_by_summoner_id(puuid)\n",
    "    \n",
    "    # Check if we got valid rank data back\n",
    "    if rank_data and isinstance(rank_data, list):\n",
    "        print(f\"✅ Successfully retrieved rank data for PUUID: {puuid}\")\n",
    "        print(f\"Rank data: {rank_data}\")\n",
    "        return True\n",
    "    else:\n",
    "        print(f\"❌ Failed to retrieve valid rank data for PUUID: {puuid}\")\n",
    "        return False\n",
    "\n",
    "# Run the tests\n",
    "print(\"Running get_puuid_by_name tests...\")\n",
    "test_get_puuid_by_name()\n",
    "print(\"Running get_summoner_name_by_puuid tests...\")\n",
    "test_get_summoner_name_by_puuid()\n",
    "print(\"\\nRunning get_summoner_by_puuid tests...\")\n",
    "test_get_summoner_by_puuid()\n",
    "print(\"\\nRunning get_rank_by_summoner_id tests...\")\n",
    "test_get_rank_by_summoner_id()\n",
    "\n"
   ]
  },
  {
   "cell_type": "markdown",
   "metadata": {},
   "source": [
    "### Match Functions"
   ]
  },
  {
   "cell_type": "code",
   "execution_count": 239,
   "metadata": {},
   "outputs": [],
   "source": [
    "# Function to get match history by PUUID\n",
    "def get_matches_by_puuid(puuid):\n",
    "    url = f\"https://americas.api.riotgames.com/lol/match/v5/matches/by-puuid/{puuid}/ids?count=50\"\n",
    "    response = requests.get(url, headers={\"X-Riot-Token\": api_key})\n",
    "    matches = response.json()\n",
    "    return matches\n",
    "\n",
    "# Function to get match data by match ID\n",
    "def get_match_data_by_match_id(match_id):\n",
    "    url = f\"https://americas.api.riotgames.com/lol/match/v5/matches/{match_id}\"\n",
    "    response = requests.get(url, headers={\"X-Riot-Token\": api_key})\n",
    "    match_data = response.json()\n",
    "    return match_data\n",
    "\n",
    "# Function to get the PUUIDs of the participants in a match\n",
    "def get_match_puuids(match_id):\n",
    "    try:\n",
    "        match_data = get_match_data_by_match_id(match_id)\n",
    "        if \"metadata\" not in match_data:\n",
    "            raise KeyError(\"Match data does not contain metadata\")\n",
    "        if \"participants\" not in match_data[\"metadata\"]:\n",
    "            raise KeyError(\"Match metadata does not contain participants\")\n",
    "        return match_data[\"metadata\"][\"participants\"]\n",
    "    except Exception as e:\n",
    "        print(f\"Error getting match PUUIDs for match {match_id}: {str(e)}\")\n",
    "        return []\n",
    "\n",
    "# Function to check if a match is a ranked match\n",
    "def check_ranked(match_id):\n",
    "    try:\n",
    "        match_data = get_match_data_by_match_id(match_id)\n",
    "        if \"info\" not in match_data:\n",
    "            print(f\"Match {match_id} data does not contain info\")\n",
    "            return False\n",
    "        if \"queueId\" not in match_data[\"info\"]:\n",
    "            print(f\"Match {match_id} info does not contain queueId\")\n",
    "            return False\n",
    "        return match_data[\"info\"][\"queueId\"] == 420\n",
    "    except Exception as e:\n",
    "        print(f\"Error checking if match {match_id} is ranked: {str(e)}\")\n",
    "        return False"
   ]
  },
  {
   "cell_type": "code",
   "execution_count": 237,
   "metadata": {},
   "outputs": [],
   "source": [
    "# Abstracted function to get ranked matches by summoner name\n",
    "def get_ranked_matches_by_name(gameName, tag_line):\n",
    "    puuid = get_puuid_by_name(gameName, tag_line)\n",
    "    matches = get_matches_by_puuid(puuid)\n",
    "    ranked_matches = []\n",
    "    for match in matches:\n",
    "        if check_ranked(match):\n",
    "            ranked_matches.append(match)\n",
    "    return ranked_matches"
   ]
  },
  {
   "cell_type": "markdown",
   "metadata": {},
   "source": [
    "### Rest"
   ]
  },
  {
   "cell_type": "code",
   "execution_count": 249,
   "metadata": {},
   "outputs": [
    {
     "name": "stdout",
     "output_type": "stream",
     "text": [
      "['NA1_5242178677', 'NA1_5241910659', 'NA1_5241896512', 'NA1_5241251868']\n"
     ]
    }
   ],
   "source": [
    "ranked_matches = get_ranked_matches_by_name(gameName, tag_line)\n",
    "print(ranked_matches)"
   ]
  },
  {
   "cell_type": "code",
   "execution_count": null,
   "metadata": {},
   "outputs": [],
   "source": [
    "# Saving a ranked match for testing\n",
    "test_match = ranked_matches[0]\n",
    "print(test_match)\n",
    "\n",
    "puids = get_match_puuids(test_match)\n",
    "print(puids)\n",
    "\n",
    "for puid in puids:\n",
    "    print(get_summoner_name_by_puuid(puid))\n",
    "\n",
    "\n"
   ]
  },
  {
   "cell_type": "code",
   "execution_count": null,
   "metadata": {},
   "outputs": [],
   "source": []
  }
 ],
 "metadata": {
  "kernelspec": {
   "display_name": ".venv",
   "language": "python",
   "name": "python3"
  },
  "language_info": {
   "codemirror_mode": {
    "name": "ipython",
    "version": 3
   },
   "file_extension": ".py",
   "mimetype": "text/x-python",
   "name": "python",
   "nbconvert_exporter": "python",
   "pygments_lexer": "ipython3",
   "version": "3.12.0"
  }
 },
 "nbformat": 4,
 "nbformat_minor": 2
}
