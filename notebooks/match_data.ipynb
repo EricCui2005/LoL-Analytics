{
 "cells": [
  {
   "cell_type": "markdown",
   "metadata": {},
   "source": [
    "### Global Configurations"
   ]
  },
  {
   "cell_type": "code",
   "execution_count": 1,
   "metadata": {},
   "outputs": [],
   "source": [
    "# Appending module search path\n",
    "import sys\n",
    "sys.path.append(\"../\")\n",
    "\n",
    "# Importing util module\n",
    "from utils.riot_api import RiotAPI"
   ]
  },
  {
   "cell_type": "code",
   "execution_count": 2,
   "metadata": {},
   "outputs": [],
   "source": [
    "# API key\n",
    "api_key = \"RGAPI-a586d3d0-08f8-415b-9eb9-bd03b7221c3e\"\n",
    "\n",
    "# API objects\n",
    "riot_api = RiotAPI(api_key)"
   ]
  },
  {
   "cell_type": "markdown",
   "metadata": {},
   "source": [
    "### Summoner Functions Tests"
   ]
  },
  {
   "cell_type": "code",
   "execution_count": 3,
   "metadata": {},
   "outputs": [],
   "source": [
    "# Testing search parameters (incidentally, this is the best summoner in NA)\n",
    "gameName = \"ARMAO\"\n",
    "tag_line = \"NA1\"\n",
    "\n",
    "# Test get_puuid_by_name function\n",
    "def test_get_puuid_by_name():\n",
    "    puuid = riot_api.get_puuid_by_name(gameName, tag_line)\n",
    "    \n",
    "    # Check if we got a valid PUUID back\n",
    "    if puuid and isinstance(puuid, str) and len(puuid) > 0:\n",
    "        print(f\"✅ Successfully retrieved PUUID for {gameName}#{tag_line}\")\n",
    "        print(f\"PUUID: {puuid}\")\n",
    "        return True\n",
    "    else:\n",
    "        print(f\"❌ Failed to retrieve valid PUUID for {gameName}#{tag_line}\")\n",
    "        return False\n",
    "    \n",
    "    \n",
    "# Test get_summoner_name_by_puuid function\n",
    "def test_get_summoner_name_by_puuid():\n",
    "    puuid = riot_api.get_puuid_by_name(gameName, tag_line)\n",
    "    summoner_name = riot_api.get_summoner_name_by_puuid(puuid)\n",
    "    \n",
    "    # Check if we got a valid summoner name back\n",
    "    if summoner_name and isinstance(summoner_name, str) and len(summoner_name) > 0:\n",
    "        print(f\"✅ Successfully retrieved summoner name for PUUID: {puuid}\")\n",
    "        print(f\"Summoner name: {summoner_name}\")\n",
    "        return True\n",
    "    else:\n",
    "        print(f\"❌ Failed to retrieve valid summoner name for PUUID: {puuid}\")\n",
    "        return False\n",
    "\n",
    "\n",
    "# Test get_summoner_by_puuid function\n",
    "def test_get_summoner_by_puuid():\n",
    "    puuid = riot_api.get_puuid_by_name(gameName, tag_line)\n",
    "    summoner_data = riot_api.get_summoner_by_puuid(puuid)\n",
    "    \n",
    "    # Check if we got valid summoner data back\n",
    "    if summoner_data and isinstance(summoner_data, dict) and 'id' in summoner_data:\n",
    "        print(f\"✅ Successfully retrieved summoner data for PUUID: {puuid}\")\n",
    "        print(f\"Summoner data: {summoner_data}\")\n",
    "        return True\n",
    "    else:\n",
    "        print(f\"❌ Failed to retrieve valid summoner data for PUUID: {puuid}\")\n",
    "        return False\n",
    "\n",
    "\n",
    "# Test get_rank_by_summoner_id function\n",
    "def test_get_rank_by_summoner_id():\n",
    "    puuid = riot_api.get_puuid_by_name(gameName, tag_line)\n",
    "    rank_data = riot_api.get_rank_data_by_summoner_id(puuid)\n",
    "    \n",
    "    # Check if we got valid rank data back\n",
    "    if rank_data and isinstance(rank_data, list):\n",
    "        print(f\"✅ Successfully retrieved rank data for PUUID: {puuid}\")\n",
    "        print(f\"Rank data: {rank_data}\")\n",
    "        return True\n",
    "    else:\n",
    "        print(f\"❌ Failed to retrieve valid rank data for PUUID: {puuid}\")\n",
    "        return False\n",
    "\n",
    "\n",
    "# Test get_champion_mastery_by_puuid function\n",
    "def test_get_champion_mastery_by_puuid():\n",
    "    puuid = riot_api.get_puuid_by_name(gameName, tag_line)\n",
    "    mastery_data = riot_api.get_champion_mastery_by_puuid(puuid, 64)\n",
    "    \n",
    "    # Check if we got valid mastery data back\n",
    "    if mastery_data and isinstance(mastery_data, dict) and len(mastery_data) > 0:\n",
    "        print(f\"✅ Successfully retrieved champion mastery data for PUUID: {puuid}\")\n",
    "        print(f\"Mastery data: {mastery_data}\")\n",
    "        return True\n",
    "    else:\n",
    "        print(f\"❌ Failed to retrieve valid champion mastery data for PUUID: {puuid}\")\n",
    "        return False"
   ]
  },
  {
   "cell_type": "code",
   "execution_count": 4,
   "metadata": {},
   "outputs": [
    {
     "name": "stdout",
     "output_type": "stream",
     "text": [
      "✅ Successfully retrieved PUUID for ARMAO#NA1\n",
      "PUUID: -7A55h5Ap4Bw8XZCFryUhBjT4q8wiIcxR4U_bnCcErLc1Ry0zwHnlnajqNBH3nR-Wwvz5mHJKv9FRQ\n",
      "✅ Successfully retrieved summoner name for PUUID: -7A55h5Ap4Bw8XZCFryUhBjT4q8wiIcxR4U_bnCcErLc1Ry0zwHnlnajqNBH3nR-Wwvz5mHJKv9FRQ\n",
      "Summoner name: ARMAO\n",
      "✅ Successfully retrieved summoner data for PUUID: -7A55h5Ap4Bw8XZCFryUhBjT4q8wiIcxR4U_bnCcErLc1Ry0zwHnlnajqNBH3nR-Wwvz5mHJKv9FRQ\n",
      "Summoner data: {'id': 'SnTLNiQ-Kl1hkAZgS6Fn3ej6dRurY4JZKdHrHLaMJP6TBfM', 'accountId': 'ndxwVpNfC3DizeTq01amiKZ7bf1BKOR79GYVyTa2u1hAeSQ', 'puuid': '-7A55h5Ap4Bw8XZCFryUhBjT4q8wiIcxR4U_bnCcErLc1Ry0zwHnlnajqNBH3nR-Wwvz5mHJKv9FRQ', 'profileIconId': 6296, 'revisionDate': 1742025188929, 'summonerLevel': 434}\n",
      "✅ Successfully retrieved rank data for PUUID: -7A55h5Ap4Bw8XZCFryUhBjT4q8wiIcxR4U_bnCcErLc1Ry0zwHnlnajqNBH3nR-Wwvz5mHJKv9FRQ\n",
      "Rank data: [{'leagueId': '7941a1fa-7574-30d5-af8e-7d8990a94a20', 'queueType': 'RANKED_SOLO_5x5', 'tier': 'CHALLENGER', 'rank': 'I', 'summonerId': 'SnTLNiQ-Kl1hkAZgS6Fn3ej6dRurY4JZKdHrHLaMJP6TBfM', 'puuid': '-7A55h5Ap4Bw8XZCFryUhBjT4q8wiIcxR4U_bnCcErLc1Ry0zwHnlnajqNBH3nR-Wwvz5mHJKv9FRQ', 'leaguePoints': 1870, 'wins': 274, 'losses': 226, 'veteran': True, 'inactive': False, 'freshBlood': False, 'hotStreak': True}]\n",
      "✅ Successfully retrieved champion mastery data for PUUID: -7A55h5Ap4Bw8XZCFryUhBjT4q8wiIcxR4U_bnCcErLc1Ry0zwHnlnajqNBH3nR-Wwvz5mHJKv9FRQ\n",
      "Mastery data: {'puuid': '-7A55h5Ap4Bw8XZCFryUhBjT4q8wiIcxR4U_bnCcErLc1Ry0zwHnlnajqNBH3nR-Wwvz5mHJKv9FRQ', 'championId': 64, 'championLevel': 45, 'championPoints': 471316, 'lastPlayTime': 1739927674000, 'championPointsSinceLastLevel': 10716, 'championPointsUntilNextLevel': 284, 'markRequiredForNextLevel': 2, 'tokensEarned': 23, 'championSeasonMilestone': 0, 'nextSeasonMilestone': {'requireGradeCounts': {'A-': 1}, 'rewardMarks': 1, 'bonus': False, 'totalGamesRequires': 1}}\n"
     ]
    },
    {
     "data": {
      "text/plain": [
       "True"
      ]
     },
     "execution_count": 4,
     "metadata": {},
     "output_type": "execute_result"
    }
   ],
   "source": [
    "# Testing\n",
    "test_get_puuid_by_name()\n",
    "test_get_summoner_name_by_puuid()\n",
    "test_get_summoner_by_puuid()\n",
    "test_get_rank_by_summoner_id()\n",
    "test_get_champion_mastery_by_puuid()"
   ]
  },
  {
   "cell_type": "markdown",
   "metadata": {},
   "source": [
    "### Prototyping"
   ]
  },
  {
   "cell_type": "code",
   "execution_count": 5,
   "metadata": {},
   "outputs": [],
   "source": [
    "test_match_id = \"NA1_5241910659\""
   ]
  },
  {
   "cell_type": "code",
   "execution_count": 6,
   "metadata": {},
   "outputs": [],
   "source": [
    "test_timeline = riot_api.get_match_timeline(test_match_id)\n",
    "test_frame = test_timeline[\"info\"][\"frames\"][18]"
   ]
  },
  {
   "cell_type": "code",
   "execution_count": 7,
   "metadata": {},
   "outputs": [],
   "source": [
    "def extract_timeline_frame_info(timeline):\n",
    "    \n",
    "    info_list = []\n",
    "    frames = timeline[\"info\"][\"frames\"]\n",
    "    \n",
    "    kills_diff = 0\n",
    "    structure_kills_diff = 0\n",
    "    elite_monster_kills_diff = 0\n",
    "    \n",
    "    for frame in frames:\n",
    "        gold_diff = riot_api.extract_gold_difference(frame)\n",
    "        kills_diff += riot_api.extract_frame_kills_difference(frame)\n",
    "        structure_kills_diff += riot_api.extract_frame_structure_kills_difference(frame)\n",
    "        elite_monster_kills_diff += riot_api.extract_frame_elite_monster_kills_difference(frame)\n",
    "        \n",
    "        info_list.append({\n",
    "            \"timestamp\": frame[\"timestamp\"],\n",
    "            \"gold_diff\": gold_diff,\n",
    "            \"kills_diff\": kills_diff,\n",
    "            \"structure_kills_diff\": structure_kills_diff,\n",
    "            \"elite_monster_kills_diff\": elite_monster_kills_diff\n",
    "        })\n",
    "    \n",
    "    return info_list\n",
    "\n",
    "info_dict = extract_timeline_frame_info(test_timeline)\n"
   ]
  },
  {
   "cell_type": "code",
   "execution_count": 8,
   "metadata": {},
   "outputs": [],
   "source": [
    "riot_api.save_to_json(info_dict, file_path='../jsons/misc/info_dict.json')\n",
    "\n",
    "    "
   ]
  },
  {
   "cell_type": "code",
   "execution_count": null,
   "metadata": {},
   "outputs": [],
   "source": []
  }
 ],
 "metadata": {
  "kernelspec": {
   "display_name": ".venv",
   "language": "python",
   "name": "python3"
  },
  "language_info": {
   "codemirror_mode": {
    "name": "ipython",
    "version": 3
   },
   "file_extension": ".py",
   "mimetype": "text/x-python",
   "name": "python",
   "nbconvert_exporter": "python",
   "pygments_lexer": "ipython3",
   "version": "3.12.0"
  }
 },
 "nbformat": 4,
 "nbformat_minor": 2
}
