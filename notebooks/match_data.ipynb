{
 "cells": [
  {
   "cell_type": "markdown",
   "metadata": {},
   "source": [
    "### Global Configurations"
   ]
  },
  {
   "cell_type": "code",
   "execution_count": 14,
   "metadata": {},
   "outputs": [],
   "source": [
    "# Appending module search path\n",
    "import sys\n",
    "sys.path.append(\"../\")\n",
    "\n",
    "# Importing util module\n",
    "from utils.riot_api import RiotAPI\n",
    "from utils.markov_utils import MarkovUtils\n",
    "import json"
   ]
  },
  {
   "cell_type": "code",
   "execution_count": 2,
   "metadata": {},
   "outputs": [],
   "source": [
    "# API key\n",
    "api_key = \"RGAPI-7cc098fd-a871-48ac-9270-a48df7e4bc8d\"\n",
    "\n",
    "# API objects\n",
    "riot_api = RiotAPI(api_key)\n",
    "markov_util = MarkovUtils()"
   ]
  },
  {
   "cell_type": "markdown",
   "metadata": {},
   "source": [
    "### Summoner Functions Tests"
   ]
  },
  {
   "cell_type": "code",
   "execution_count": 3,
   "metadata": {},
   "outputs": [],
   "source": [
    "# Testing search parameters (incidentally, this is the best summoner in NA)\n",
    "gameName = \"ARMAO\"\n",
    "tag_line = \"NA1\"\n",
    "\n",
    "# Test get_puuid_by_name function\n",
    "def test_get_puuid_by_name():\n",
    "    puuid = riot_api.get_puuid_by_name(gameName, tag_line)\n",
    "    \n",
    "    # Check if we got a valid PUUID back\n",
    "    if puuid and isinstance(puuid, str) and len(puuid) > 0:\n",
    "        print(f\"✅ Successfully retrieved PUUID for {gameName}#{tag_line}\")\n",
    "        print(f\"PUUID: {puuid}\")\n",
    "        return True\n",
    "    else:\n",
    "        print(f\"❌ Failed to retrieve valid PUUID for {gameName}#{tag_line}\")\n",
    "        return False\n",
    "    \n",
    "    \n",
    "# Test get_summoner_name_by_puuid function\n",
    "def test_get_summoner_name_by_puuid():\n",
    "    puuid = riot_api.get_puuid_by_name(gameName, tag_line)\n",
    "    summoner_name = riot_api.get_summoner_name_by_puuid(puuid)\n",
    "    \n",
    "    # Check if we got a valid summoner name back\n",
    "    if summoner_name and isinstance(summoner_name, str) and len(summoner_name) > 0:\n",
    "        print(f\"✅ Successfully retrieved summoner name for PUUID: {puuid}\")\n",
    "        print(f\"Summoner name: {summoner_name}\")\n",
    "        return True\n",
    "    else:\n",
    "        print(f\"❌ Failed to retrieve valid summoner name for PUUID: {puuid}\")\n",
    "        return False\n",
    "\n",
    "\n",
    "# Test get_summoner_by_puuid function\n",
    "def test_get_summoner_by_puuid():\n",
    "    puuid = riot_api.get_puuid_by_name(gameName, tag_line)\n",
    "    summoner_data = riot_api.get_summoner_by_puuid(puuid)\n",
    "    \n",
    "    # Check if we got valid summoner data back\n",
    "    if summoner_data and isinstance(summoner_data, dict) and 'id' in summoner_data:\n",
    "        print(f\"✅ Successfully retrieved summoner data for PUUID: {puuid}\")\n",
    "        print(f\"Summoner data: {summoner_data}\")\n",
    "        return True\n",
    "    else:\n",
    "        print(f\"❌ Failed to retrieve valid summoner data for PUUID: {puuid}\")\n",
    "        return False\n",
    "\n",
    "\n",
    "# Test get_rank_by_summoner_id function\n",
    "def test_get_rank_by_summoner_id():\n",
    "    puuid = riot_api.get_puuid_by_name(gameName, tag_line)\n",
    "    rank_data = riot_api.get_rank_data_by_summoner_id(puuid)\n",
    "    \n",
    "    # Check if we got valid rank data back\n",
    "    if rank_data and isinstance(rank_data, list):\n",
    "        print(f\"✅ Successfully retrieved rank data for PUUID: {puuid}\")\n",
    "        print(f\"Rank data: {rank_data}\")\n",
    "        return True\n",
    "    else:\n",
    "        print(f\"❌ Failed to retrieve valid rank data for PUUID: {puuid}\")\n",
    "        return False\n",
    "\n",
    "\n",
    "# Test get_champion_mastery_by_puuid function\n",
    "def test_get_champion_mastery_by_puuid():\n",
    "    puuid = riot_api.get_puuid_by_name(gameName, tag_line)\n",
    "    mastery_data = riot_api.get_champion_mastery_by_puuid(puuid, 64)\n",
    "    \n",
    "    # Check if we got valid mastery data back\n",
    "    if mastery_data and isinstance(mastery_data, dict) and len(mastery_data) > 0:\n",
    "        print(f\"✅ Successfully retrieved champion mastery data for PUUID: {puuid}\")\n",
    "        print(f\"Mastery data: {mastery_data}\")\n",
    "        return True\n",
    "    else:\n",
    "        print(f\"❌ Failed to retrieve valid champion mastery data for PUUID: {puuid}\")\n",
    "        return False"
   ]
  },
  {
   "cell_type": "code",
   "execution_count": 4,
   "metadata": {},
   "outputs": [
    {
     "name": "stdout",
     "output_type": "stream",
     "text": [
      "✅ Successfully retrieved PUUID for ARMAO#NA1\n",
      "PUUID: -7A55h5Ap4Bw8XZCFryUhBjT4q8wiIcxR4U_bnCcErLc1Ry0zwHnlnajqNBH3nR-Wwvz5mHJKv9FRQ\n",
      "✅ Successfully retrieved summoner name for PUUID: -7A55h5Ap4Bw8XZCFryUhBjT4q8wiIcxR4U_bnCcErLc1Ry0zwHnlnajqNBH3nR-Wwvz5mHJKv9FRQ\n",
      "Summoner name: ARMAO\n",
      "✅ Successfully retrieved summoner data for PUUID: -7A55h5Ap4Bw8XZCFryUhBjT4q8wiIcxR4U_bnCcErLc1Ry0zwHnlnajqNBH3nR-Wwvz5mHJKv9FRQ\n",
      "Summoner data: {'id': 'SnTLNiQ-Kl1hkAZgS6Fn3ej6dRurY4JZKdHrHLaMJP6TBfM', 'accountId': 'ndxwVpNfC3DizeTq01amiKZ7bf1BKOR79GYVyTa2u1hAeSQ', 'puuid': '-7A55h5Ap4Bw8XZCFryUhBjT4q8wiIcxR4U_bnCcErLc1Ry0zwHnlnajqNBH3nR-Wwvz5mHJKv9FRQ', 'profileIconId': 6296, 'revisionDate': 1742098249864, 'summonerLevel': 435}\n",
      "✅ Successfully retrieved rank data for PUUID: -7A55h5Ap4Bw8XZCFryUhBjT4q8wiIcxR4U_bnCcErLc1Ry0zwHnlnajqNBH3nR-Wwvz5mHJKv9FRQ\n",
      "Rank data: [{'leagueId': '7941a1fa-7574-30d5-af8e-7d8990a94a20', 'queueType': 'RANKED_SOLO_5x5', 'tier': 'CHALLENGER', 'rank': 'I', 'summonerId': 'SnTLNiQ-Kl1hkAZgS6Fn3ej6dRurY4JZKdHrHLaMJP6TBfM', 'puuid': '-7A55h5Ap4Bw8XZCFryUhBjT4q8wiIcxR4U_bnCcErLc1Ry0zwHnlnajqNBH3nR-Wwvz5mHJKv9FRQ', 'leaguePoints': 1830, 'wins': 274, 'losses': 228, 'veteran': True, 'inactive': False, 'freshBlood': False, 'hotStreak': False}]\n",
      "✅ Successfully retrieved champion mastery data for PUUID: -7A55h5Ap4Bw8XZCFryUhBjT4q8wiIcxR4U_bnCcErLc1Ry0zwHnlnajqNBH3nR-Wwvz5mHJKv9FRQ\n",
      "Mastery data: {'puuid': '-7A55h5Ap4Bw8XZCFryUhBjT4q8wiIcxR4U_bnCcErLc1Ry0zwHnlnajqNBH3nR-Wwvz5mHJKv9FRQ', 'championId': 64, 'championLevel': 45, 'championPoints': 471316, 'lastPlayTime': 1739927674000, 'championPointsSinceLastLevel': 10716, 'championPointsUntilNextLevel': 284, 'markRequiredForNextLevel': 2, 'tokensEarned': 23, 'championSeasonMilestone': 0, 'nextSeasonMilestone': {'requireGradeCounts': {'A-': 1}, 'rewardMarks': 1, 'bonus': False, 'totalGamesRequires': 1}}\n"
     ]
    },
    {
     "data": {
      "text/plain": [
       "True"
      ]
     },
     "execution_count": 4,
     "metadata": {},
     "output_type": "execute_result"
    }
   ],
   "source": [
    "# Testing\n",
    "test_get_puuid_by_name()\n",
    "test_get_summoner_name_by_puuid()\n",
    "test_get_summoner_by_puuid()\n",
    "test_get_rank_by_summoner_id()\n",
    "test_get_champion_mastery_by_puuid()"
   ]
  },
  {
   "cell_type": "markdown",
   "metadata": {},
   "source": [
    "### Prototyping"
   ]
  },
  {
   "cell_type": "code",
   "execution_count": 103,
   "metadata": {},
   "outputs": [],
   "source": [
    "game_name_seek = \"Pentaless\"\n",
    "tag_line_seek = \"penta\""
   ]
  },
  {
   "cell_type": "code",
   "execution_count": 96,
   "metadata": {},
   "outputs": [
    {
     "name": "stdout",
     "output_type": "stream",
     "text": [
      "Match NA1_5235316796 data does not contain info\n",
      "Match NA1_5235291712 data does not contain info\n"
     ]
    }
   ],
   "source": [
    "ranked_matches = riot_api.get_ranked_matches_by_name(game_name_seek, tag_line_seek)"
   ]
  },
  {
   "cell_type": "code",
   "execution_count": 97,
   "metadata": {},
   "outputs": [
    {
     "name": "stdout",
     "output_type": "stream",
     "text": [
      "72\n"
     ]
    }
   ],
   "source": [
    "print(len(ranked_matches))"
   ]
  },
  {
   "cell_type": "code",
   "execution_count": 98,
   "metadata": {},
   "outputs": [],
   "source": [
    "transitions_list = []\n",
    "with open('../jsons/data/transitions.json', 'r') as f:\n",
    "    transitions_list = json.load(f)"
   ]
  },
  {
   "cell_type": "code",
   "execution_count": 100,
   "metadata": {},
   "outputs": [],
   "source": [
    "for match_id in ranked_matches:\n",
    "    timeline = riot_api.get_match_timeline(match_id)\n",
    "    info_dicts = riot_api.extract_timeline_frame_info(timeline)\n",
    "    markov_util.convert_raw_info_list_to_markov_data(info_dicts)\n",
    "    transitions = markov_util.get_markov_transitions(info_dicts)\n",
    "    transitions_list.extend(transitions)"
   ]
  },
  {
   "cell_type": "code",
   "execution_count": 101,
   "metadata": {},
   "outputs": [
    {
     "name": "stdout",
     "output_type": "stream",
     "text": [
      "8189\n"
     ]
    }
   ],
   "source": [
    "print(len(transitions_list))"
   ]
  },
  {
   "cell_type": "code",
   "execution_count": 102,
   "metadata": {},
   "outputs": [],
   "source": [
    "with open('../jsons/data/transitions.json', 'w') as f:\n",
    "    json.dump(transitions_list, f)\n"
   ]
  },
  {
   "cell_type": "code",
   "execution_count": null,
   "metadata": {},
   "outputs": [],
   "source": []
  }
 ],
 "metadata": {
  "kernelspec": {
   "display_name": ".venv",
   "language": "python",
   "name": "python3"
  },
  "language_info": {
   "codemirror_mode": {
    "name": "ipython",
    "version": 3
   },
   "file_extension": ".py",
   "mimetype": "text/x-python",
   "name": "python",
   "nbconvert_exporter": "python",
   "pygments_lexer": "ipython3",
   "version": "3.12.0"
  }
 },
 "nbformat": 4,
 "nbformat_minor": 2
}
